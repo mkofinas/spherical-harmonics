{
 "cells": [
  {
   "cell_type": "markdown",
   "id": "637d42b5",
   "metadata": {},
   "source": [
    "## Spherical Harmonics"
   ]
  },
  {
   "cell_type": "code",
   "execution_count": 30,
   "id": "95ee2a26",
   "metadata": {},
   "outputs": [],
   "source": [
    "import numpy as np\n",
    "from scipy.special import sph_harm\n",
    "from scipy.spatial.transform import Rotation\n",
    "import quaternionic\n",
    "import spherical\n",
    "\n",
    "from IPython.display import IFrame\n",
    "import plotly.graph_objects as go\n",
    "from plotly.subplots import make_subplots\n",
    "\n",
    "layout = dict(\n",
    "    font_family=\"JuliaMono\",\n",
    "    showlegend=False,\n",
    "    margin=go.layout.Margin(l=0, r=0, b=0, t=0),\n",
    "    paper_bgcolor='rgba(0,0,0,0)',\n",
    ")"
   ]
  },
  {
   "cell_type": "code",
   "execution_count": 2,
   "id": "88d7dae6",
   "metadata": {},
   "outputs": [],
   "source": [
    "# We follow the mathematics convention, theta is the azimuthal angle [0, 2π), phi is the polar angle [0, π]\n",
    "phi, theta = np.mgrid[0:np.pi:128j, 0:2*np.pi:128j]\n",
    "\n",
    "r = 1\n",
    "x = r * np.cos(theta) * np.sin(phi)\n",
    "y = r * np.sin(theta) * np.sin(phi)\n",
    "z = r * np.cos(phi)\n",
    "\n",
    "f = np.sqrt(0.75 / np.pi) * y / r + 0.5 * np.sqrt(15 / np.pi) * x * z / r\n",
    "f = f / np.linalg.norm(f)"
   ]
  },
  {
   "cell_type": "code",
   "execution_count": 3,
   "id": "058269f7",
   "metadata": {},
   "outputs": [
    {
     "data": {
      "text/html": [
       "\n",
       "        <iframe\n",
       "            width=\"1000\"\n",
       "            height=\"500\"\n",
       "            src=\"./example_signal.html\"\n",
       "            frameborder=\"0\"\n",
       "            allowfullscreen\n",
       "        ></iframe>\n",
       "        "
      ]
     },
     "execution_count": 3,
     "metadata": {},
     "output_type": "execute_result"
    }
   ],
   "source": [
    "fig = make_subplots(rows=1, cols=1, specs=[[{'is_3d': True}]], subplot_titles=[r'$Y_{lm}$'])\n",
    "\n",
    "fig.add_trace(\n",
    "  go.Surface(x=x, y=y, z=z, surfacecolor=f, colorscale='RdBu_r')\n",
    ")\n",
    "\n",
    "fig.update_layout(layout)\n",
    "fig.update_traces(showscale=False)\n",
    "# fig.show()\n",
    "fig.write_html('example_signal.html')\n",
    "IFrame('./example_signal.html', 1000, 500)"
   ]
  },
  {
   "cell_type": "code",
   "execution_count": 4,
   "id": "1003b943",
   "metadata": {},
   "outputs": [
    {
     "data": {
      "text/html": [
       "\n",
       "        <iframe\n",
       "            width=\"1000\"\n",
       "            height=\"500\"\n",
       "            src=\"./example_signal_glyph.html\"\n",
       "            frameborder=\"0\"\n",
       "            allowfullscreen\n",
       "        ></iframe>\n",
       "        "
      ]
     },
     "execution_count": 4,
     "metadata": {},
     "output_type": "execute_result"
    }
   ],
   "source": [
    "fig = make_subplots(rows=1, cols=1, specs=[[{'is_3d': True}]])\n",
    "\n",
    "fig.add_trace(\n",
    "  go.Surface(x=x * np.abs(f), y=y * np.abs(f), z=z * np.abs(f), surfacecolor=f, colorscale='RdBu_r')\n",
    ")\n",
    "\n",
    "fig.update_layout(layout)\n",
    "fig.update_traces(showscale=False)\n",
    "# fig.show()\n",
    "fig.write_html('example_signal_glyph.html')\n",
    "IFrame('./example_signal_glyph.html', 1000, 500)"
   ]
  },
  {
   "cell_type": "markdown",
   "id": "afb142e0",
   "metadata": {},
   "source": [
    "### Spherical Harmonics\n",
    "\n",
    "Spherical harmonics require 2 indices, the degree $l$, similar to the frequency in the Fourier series, and the order $m$.\n",
    "\n",
    "$$\n",
    "f(\\theta, \\phi) = \\sum_{l=0}^{\\infty} \\sum_{m=-l}^{l} f_{lm} Y_{lm}(\\theta, \\phi)\n",
    "$$"
   ]
  },
  {
   "cell_type": "code",
   "execution_count": 5,
   "id": "6bd06802",
   "metadata": {},
   "outputs": [],
   "source": [
    "Y = sph_harm(-1, 5, theta, phi).real"
   ]
  },
  {
   "cell_type": "code",
   "execution_count": 6,
   "id": "b00f0e65",
   "metadata": {},
   "outputs": [
    {
     "data": {
      "text/html": [
       "\n",
       "        <iframe\n",
       "            width=\"1000\"\n",
       "            height=\"500\"\n",
       "            src=\"./example_sph_harmonics.html\"\n",
       "            frameborder=\"0\"\n",
       "            allowfullscreen\n",
       "        ></iframe>\n",
       "        "
      ]
     },
     "execution_count": 6,
     "metadata": {},
     "output_type": "execute_result"
    }
   ],
   "source": [
    "fig = make_subplots(rows=1, cols=2, shared_xaxes=True, shared_yaxes=True,\n",
    "                    specs=[[{'is_3d': True}, {'is_3d': True}]])\n",
    "\n",
    "fig.add_trace(\n",
    "    go.Surface(x=x, y=y, z=z, surfacecolor=Y, colorscale='RdBu_r'),\n",
    "    1, 1\n",
    ")\n",
    "fig.add_trace(\n",
    "    go.Surface(x=x * np.abs(Y), y=y * np.abs(Y), z=z * np.abs(Y), \n",
    "        surfacecolor=Y, colorscale='RdBu_r'),\n",
    "    1, 2\n",
    ")\n",
    "\n",
    "fig.update_layout(layout)\n",
    "\n",
    "fig.update_traces(showscale=False)\n",
    "# fig.show()\n",
    "fig.write_html('example_sph_harmonics.html')\n",
    "IFrame('./example_sph_harmonics.html', 1000, 500)"
   ]
  },
  {
   "cell_type": "code",
   "execution_count": 7,
   "id": "39feb608",
   "metadata": {},
   "outputs": [],
   "source": [
    "num_degrees = 4\n",
    "max_order = 2 * num_degrees + 1\n",
    "Y = [sph_harm(np.arange(-l, l+1)[:, None, None], l, theta[None, ...], phi[None, ...]).real\n",
    "     for l in np.arange(num_degrees+1)]"
   ]
  },
  {
   "cell_type": "code",
   "execution_count": 8,
   "id": "1fe3d527",
   "metadata": {
    "scrolled": true
   },
   "outputs": [],
   "source": [
    "fig = make_subplots(rows=num_degrees+1, cols=max_order,\n",
    "                    specs=[[{'is_3d': True} for r in range(max_order)] for c in range(num_degrees+1)])\n",
    "\n",
    "for l in range(num_degrees+1):\n",
    "    for m in range(-l, l+1):\n",
    "        fig.add_trace(\n",
    "          go.Surface(x=x, y=y, z=z, surfacecolor=Y[l][m+l], colorscale='RdBu_r'),\n",
    "          l+1, m+num_degrees+1\n",
    "        )\n",
    "\n",
    "fig.update_layout(layout)\n",
    "fig.update_scenes(xaxis_visible=False, yaxis_visible=False,zaxis_visible=False )\n",
    "fig.update_traces(showscale=False)\n",
    "\n",
    "fig.write_image(\"../img/sph_harmonics.svg\")\n",
    "# fig.write_html(\"sph_harmonics.html\")\n",
    "# IFrame('./sph_harmonics.html', 1000, 500)"
   ]
  },
  {
   "cell_type": "markdown",
   "id": "b2fda4a9",
   "metadata": {},
   "source": [
    "![Spherical Harmonics](./../img/sph_harmonics.svg)"
   ]
  },
  {
   "cell_type": "code",
   "execution_count": 9,
   "id": "abf0b154",
   "metadata": {},
   "outputs": [],
   "source": [
    "fig = make_subplots(rows=num_degrees+1, cols=max_order,\n",
    "                    specs=[[{'is_3d': True} for r in range(max_order)] for c in range(num_degrees+1)])\n",
    "\n",
    "for l in range(num_degrees+1):\n",
    "    for m in range(-l, l+1):\n",
    "        fig.add_trace(\n",
    "          go.Surface(x=x * np.abs(Y[l][m+l]), y=y * np.abs(Y[l][m+l]), z=z * np.abs(Y[l][m+l]), surfacecolor=Y[l][m+l], colorscale='RdBu_r'),\n",
    "          l+1, m+num_degrees+1\n",
    "        )\n",
    "\n",
    "fig.update_layout(layout)\n",
    "fig.update_scenes(xaxis_visible=False, yaxis_visible=False, zaxis_visible=False)\n",
    "fig.update_traces(showscale=False)\n",
    "\n",
    "fig.write_image(\"../img/glyph_sph_harmonics.svg\")\n",
    "# fig.write_html(\"glyph_sph_harmonics.html\")\n",
    "# IFrame('./glyph_sph_harmonics.html', 1000, 500)"
   ]
  },
  {
   "cell_type": "markdown",
   "id": "894a9d4f",
   "metadata": {},
   "source": [
    "![Spherical Harmonics](../img/glyph_sph_harmonics.svg)"
   ]
  },
  {
   "cell_type": "code",
   "execution_count": 10,
   "id": "b2ddc10f",
   "metadata": {},
   "outputs": [],
   "source": [
    "theta_linspace = np.linspace(0, 2 * np.pi, 16, endpoint=True)\n",
    "Y_21_rot = [(sph_harm(1, 2, theta, phi) * np.exp(1j * theta_0)).real\n",
    "            for theta_0 in theta_linspace]\n",
    "Y_31_rot = [(sph_harm(1, 3, theta, phi) * np.exp(1j * theta_0)).real\n",
    "            for theta_0 in theta_linspace]"
   ]
  },
  {
   "cell_type": "code",
   "execution_count": 11,
   "id": "ee2d5303",
   "metadata": {},
   "outputs": [
    {
     "data": {
      "text/html": [
       "\n",
       "        <iframe\n",
       "            width=\"1000\"\n",
       "            height=\"500\"\n",
       "            src=\"./example_rot_glyph_sph_harmonics.html\"\n",
       "            frameborder=\"0\"\n",
       "            allowfullscreen\n",
       "        ></iframe>\n",
       "        "
      ]
     },
     "execution_count": 11,
     "metadata": {},
     "output_type": "execute_result"
    }
   ],
   "source": [
    "fig = go.Figure(\n",
    "    data=go.Surface(x=x * np.abs(Y_31_rot[0]), y=y * np.abs(Y_31_rot[0]), z=z * np.abs(Y_31_rot[0]),\n",
    "                    surfacecolor=Y_31_rot[0], colorscale='RdBu_r', name='0'),\n",
    "    frames=[go.Frame(data=go.Surface(x=x * np.abs(Y_31_rot[t]), y=y * np.abs(Y_31_rot[t]), z=z * np.abs(Y_31_rot[t]),\n",
    "                                     surfacecolor=Y_31_rot[t], colorscale='RdBu_r', name=str(t)))\n",
    "            for t in range(1, len(theta_linspace))]\n",
    ")\n",
    "\n",
    "fig.update_layout(layout)\n",
    "fig.update_scenes(xaxis_visible=False, yaxis_visible=False, zaxis_visible=False)\n",
    "fig.update_traces(showscale=False)\n",
    "# fig.show()\n",
    "fig.write_html(\"example_rot_glyph_sph_harmonics.html\")\n",
    "IFrame('./example_rot_glyph_sph_harmonics.html', 1000, 500)"
   ]
  },
  {
   "cell_type": "code",
   "execution_count": 12,
   "id": "b7985752",
   "metadata": {},
   "outputs": [],
   "source": [
    "num_degrees = 2\n",
    "max_order = 2 * num_degrees + 1\n",
    "theta_linspace = np.linspace(0, 2 * np.pi, 32, endpoint=True)\n",
    "\n",
    "Y_rot = np.empty((len(theta_linspace), num_degrees+1, max_order, theta.shape[0], phi.shape[0]))\n",
    "for i, theta_0 in enumerate(theta_linspace):\n",
    "    for l in np.arange(num_degrees+1):\n",
    "        harmonics = (sph_harm(np.arange(-l, l+1)[:, None, None], l, theta[None, ...], phi[None, ...])\n",
    "                     * np.exp(1j * np.arange(-l, l+1)[:, None, None] * theta_0)).real\n",
    "        Y_rot[i, l, num_degrees-l:num_degrees+l+1] = harmonics"
   ]
  },
  {
   "cell_type": "code",
   "execution_count": 13,
   "id": "45838367",
   "metadata": {},
   "outputs": [],
   "source": [
    "frames = [\n",
    "    dict(\n",
    "        name=str(t),\n",
    "        data=[go.Surface(x=x * np.abs(Y_rot[t, l, num_degrees+m]), y=y * np.abs(Y_rot[t, l, num_degrees+m]),\n",
    "                          z=z * np.abs(Y_rot[t, l, num_degrees+m]), surfacecolor=Y_rot[t, l, num_degrees+m], \n",
    "                          colorscale='RdBu_r')\n",
    "              for l in range(num_degrees+1)\n",
    "              for m in range(-l, l+1)],\n",
    "        traces=list(range((num_degrees+1)**2)),\n",
    "    )\n",
    "    for t in range(1, len(theta_linspace))\n",
    "]"
   ]
  },
  {
   "cell_type": "code",
   "execution_count": 14,
   "id": "59586cc3",
   "metadata": {},
   "outputs": [
    {
     "data": {
      "text/html": [
       "\n",
       "        <iframe\n",
       "            width=\"1000\"\n",
       "            height=\"500\"\n",
       "            src=\"./full_rot_glyph_sph_harmonics.html\"\n",
       "            frameborder=\"0\"\n",
       "            allowfullscreen\n",
       "        ></iframe>\n",
       "        "
      ]
     },
     "execution_count": 14,
     "metadata": {},
     "output_type": "execute_result"
    }
   ],
   "source": [
    "fig = make_subplots(\n",
    "    rows=num_degrees+1, cols=max_order,\n",
    "    specs=[[{'is_3d': True} for r in range(max_order)] for c in range(num_degrees+1)])\n",
    "\n",
    "for l in range(num_degrees+1):\n",
    "    for m in range(-l, l+1):\n",
    "        fig.add_trace(\n",
    "          go.Surface(x=x * np.abs(Y_rot[0, l, num_degrees+m]), y=y * np.abs(Y_rot[0, l, num_degrees+m]),\n",
    "                     z=z * np.abs(Y_rot[0, l, num_degrees+m]), surfacecolor=Y_rot[0, l, num_degrees+m],\n",
    "                     colorscale='RdBu_r'),\n",
    "          l+1, num_degrees+m+1\n",
    "        )\n",
    "fig.update(frames=frames)\n",
    "\n",
    "fig.update_layout(layout)\n",
    "fig.update_scenes(xaxis_visible=False, yaxis_visible=False, zaxis_visible=False)\n",
    "fig.update_traces(showscale=False)\n",
    "\n",
    "fig.write_html(\"full_rot_glyph_sph_harmonics.html\")\n",
    "IFrame('./full_rot_glyph_sph_harmonics.html', 1000, 500)"
   ]
  },
  {
   "cell_type": "code",
   "execution_count": 15,
   "id": "fb4eab07",
   "metadata": {},
   "outputs": [],
   "source": [
    "frames = [\n",
    "    dict(\n",
    "        name=str(t),\n",
    "        data=[go.Surface(x=x, y=y, z=z, surfacecolor=Y_rot[t, l, num_degrees+m], \n",
    "                         colorscale='RdBu_r')\n",
    "              for l in range(num_degrees+1)\n",
    "              for m in range(-l, l+1)],\n",
    "        traces=list(range((num_degrees+1)**2)),\n",
    "    )\n",
    "    for t in range(1, len(theta_linspace))\n",
    "]"
   ]
  },
  {
   "cell_type": "code",
   "execution_count": 16,
   "id": "710dba8b",
   "metadata": {},
   "outputs": [
    {
     "data": {
      "text/html": [
       "\n",
       "        <iframe\n",
       "            width=\"1000\"\n",
       "            height=\"500\"\n",
       "            src=\"./full_rot_sph_harmonics.html\"\n",
       "            frameborder=\"0\"\n",
       "            allowfullscreen\n",
       "        ></iframe>\n",
       "        "
      ]
     },
     "execution_count": 16,
     "metadata": {},
     "output_type": "execute_result"
    }
   ],
   "source": [
    "fig = make_subplots(rows=num_degrees+1, cols=max_order,\n",
    "                    specs=[[{'is_3d': True} for r in range(max_order)] for c in range(num_degrees+1)])\n",
    "\n",
    "for l in range(num_degrees+1):\n",
    "    for m in range(-l, l+1):\n",
    "        fig.add_trace(\n",
    "          go.Surface(x=x, y=y, z=z, surfacecolor=Y_rot[0, l, num_degrees+m],\n",
    "                     colorscale='RdBu_r'),\n",
    "          l+1, num_degrees+m+1\n",
    "        )\n",
    "fig.update(frames=frames)\n",
    "\n",
    "fig.update_layout(layout)\n",
    "fig.update_scenes(xaxis_visible=False, yaxis_visible=False, zaxis_visible=False)\n",
    "fig.update_traces(showscale=False)\n",
    "\n",
    "fig.write_html(\"full_rot_sph_harmonics.html\")\n",
    "IFrame('./full_rot_sph_harmonics.html', 1000, 500)"
   ]
  },
  {
   "cell_type": "markdown",
   "id": "42ff8df6",
   "metadata": {},
   "source": [
    "## Dirac Delta Approximation"
   ]
  },
  {
   "cell_type": "code",
   "execution_count": 17,
   "id": "b746a8e9",
   "metadata": {},
   "outputs": [],
   "source": [
    "phi, theta = np.mgrid[0:np.pi:128j, 0:2*np.pi:128j]\n",
    "\n",
    "r = 1\n",
    "x = r * np.cos(theta) * np.sin(phi)\n",
    "y = r * np.sin(theta) * np.sin(phi)\n",
    "z = r * np.cos(phi)\n",
    "\n",
    "f = np.zeros_like(x)\n",
    "f[10, 20] = 1.0"
   ]
  },
  {
   "cell_type": "code",
   "execution_count": 18,
   "id": "698da7d8",
   "metadata": {},
   "outputs": [
    {
     "data": {
      "text/html": [
       "\n",
       "        <iframe\n",
       "            width=\"1000\"\n",
       "            height=\"500\"\n",
       "            src=\"./delta_on_sphere.html\"\n",
       "            frameborder=\"0\"\n",
       "            allowfullscreen\n",
       "        ></iframe>\n",
       "        "
      ]
     },
     "execution_count": 18,
     "metadata": {},
     "output_type": "execute_result"
    }
   ],
   "source": [
    "fig = go.Figure(data=go.Cone(x=[0], y=[0], z=[0], u=[x[10, 20]], v=[y[10, 20]], w=[z[10, 20]]))\n",
    "fig.update_layout(layout)\n",
    "fig.update_traces(showscale=False)\n",
    "# fig.show()\n",
    "fig.write_html('delta_on_sphere.html')\n",
    "IFrame('./delta_on_sphere.html', 1000, 500)"
   ]
  },
  {
   "cell_type": "code",
   "execution_count": 19,
   "id": "7e751534",
   "metadata": {},
   "outputs": [],
   "source": [
    "def num_coeff(l_max):\n",
    "    return (l_max + 1) ** 2\n",
    "\n",
    "num_degrees = 10\n",
    "max_order = 2 * num_degrees + 1\n",
    "Y = np.concatenate(\n",
    "    [sph_harm(np.arange(-l, l+1)[:, None, None], l, theta[None, ...], phi[None, ...]).real\n",
    "     for l in np.arange(num_degrees)], 0)\n",
    "\n",
    "l_max = [3, 5, 7, 9]\n",
    "delta_recon = [\n",
    "    (Y[:num_coeff(l), [[10]], [[20]]] * Y[:num_coeff(l)]).sum(0)\n",
    "    for l in l_max]"
   ]
  },
  {
   "cell_type": "code",
   "execution_count": 20,
   "id": "6babf100",
   "metadata": {},
   "outputs": [
    {
     "data": {
      "text/html": [
       "\n",
       "        <iframe\n",
       "            width=\"1000\"\n",
       "            height=\"500\"\n",
       "            src=\"./delta_sph_harmonics.html\"\n",
       "            frameborder=\"0\"\n",
       "            allowfullscreen\n",
       "        ></iframe>\n",
       "        "
      ]
     },
     "execution_count": 20,
     "metadata": {},
     "output_type": "execute_result"
    }
   ],
   "source": [
    "rows, cols = 2, len(l_max)\n",
    "specs = [[{'is_3d': True} for i in range(cols)]\n",
    "         for j in range(rows)]\n",
    "fig = make_subplots(rows=rows, cols=cols, specs=specs)\n",
    "\n",
    "for col, d in enumerate(delta_recon, start=1):\n",
    "    fig.add_trace(\n",
    "        go.Surface(x=x, y=y, z=z, surfacecolor=d, colorscale='RdBu_r'), row=1, col=col)\n",
    "for col, d in enumerate(delta_recon, start=1):\n",
    "    fig.add_trace(\n",
    "        go.Surface(x=x * np.abs(d), y=y * np.abs(d),\n",
    "                   z=z * np.abs(d), surfacecolor=d, colorscale='RdBu_r'), row=2, col=col)\n",
    "\n",
    "fig.update_layout(layout)\n",
    "fig.update_scenes(xaxis_visible=False, yaxis_visible=False, zaxis_visible=False)\n",
    "fig.update_traces(showscale=False)\n",
    "# fig.show()\n",
    "fig.write_html('delta_sph_harmonics.html')\n",
    "IFrame('./delta_sph_harmonics.html', 1000, 500)"
   ]
  },
  {
   "cell_type": "markdown",
   "id": "af53da52",
   "metadata": {},
   "source": [
    "# Arbitrary Rotations - Wigner-D Matrix"
   ]
  },
  {
   "cell_type": "code",
   "execution_count": 21,
   "id": "a33a2004",
   "metadata": {},
   "outputs": [],
   "source": []
  },
  {
   "cell_type": "code",
   "execution_count": 22,
   "id": "9070217f",
   "metadata": {},
   "outputs": [],
   "source": [
    "num_timesteps = 16\n",
    "R = Rotation.from_rotvec(np.ones((num_timesteps, 3)) * np.linspace(0.0, 2 * np.pi, num_timesteps, endpoint=False)[:, None])\n",
    "# R = Rotation.from_rotvec(np.concatenate([np.zeros((num_timesteps, 1)), np.ones((num_timesteps, 1)), np.zeros((num_timesteps, 1))],-1) * np.linspace(0.0, 2 * np.pi, num_timesteps, endpoint=False)[:, None])\n",
    "R = R.as_matrix()"
   ]
  },
  {
   "cell_type": "code",
   "execution_count": 23,
   "id": "3d2e2f05",
   "metadata": {},
   "outputs": [],
   "source": [
    "def cum_coeff(l):\n",
    "    return int(np.round((l + 1) * (2 * l + 1) * (2 * l + 3) / 3))\n",
    "\n",
    "def block_diag(x):\n",
    "    y = np.zeros((x[0].shape[0], np.sum([xi.shape[1] for xi in x]),\n",
    "                  np.sum([xi.shape[2] for xi in x])), dtype=x[0].dtype)\n",
    "    r = 0\n",
    "    c = 0\n",
    "    for xi in x:\n",
    "        y[:, r:r+xi.shape[1], c:c+xi.shape[2]] = xi\n",
    "        r += xi.shape[1]\n",
    "        c += xi.shape[2]\n",
    "    return y\n",
    "\n",
    "l_max = 2\n",
    "wigner = spherical.Wigner(l_max)\n",
    "\n",
    "D = wigner.D(quaternionic.array.from_rotation_matrix(R))\n",
    "    \n",
    "splits = [cum_coeff(x) for x in range(l_max+1)]\n",
    "D = np.split(D, splits[:-1], axis=-1)\n",
    "D = [Di.reshape(-1, 2 * i + 1, 2 * i + 1) for i, Di in enumerate(D)]\n",
    "D = block_diag(D)"
   ]
  },
  {
   "cell_type": "code",
   "execution_count": 24,
   "id": "4b83abbe",
   "metadata": {},
   "outputs": [],
   "source": [
    "num_degrees = 2\n",
    "max_order = 2 * num_degrees + 1\n",
    "\n",
    "Y_rot = np.empty((num_timesteps, num_degrees+1, max_order, theta.shape[0], phi.shape[0]))\n",
    "for i, Di in enumerate(D):\n",
    "    for l in np.arange(num_degrees+1):\n",
    "        rot = Di[l**2:(l+1)**2, l**2:(l+1)**2]\n",
    "        sph = sph_harm(np.arange(-l, l+1)[:, None, None], l, theta[None, ...], phi[None, ...])\n",
    "        harmonics = np.einsum('ij,jmn->imn', rot, sph).real\n",
    "        Y_rot[i, l, num_degrees-l:num_degrees+l+1] = harmonics"
   ]
  },
  {
   "cell_type": "code",
   "execution_count": 25,
   "id": "86159695",
   "metadata": {},
   "outputs": [],
   "source": [
    "frames = [\n",
    "    dict(\n",
    "        name=str(t),\n",
    "        data=[go.Surface(x=x * np.abs(Y_rot[t, l, num_degrees+m]), y=y * np.abs(Y_rot[t, l, num_degrees+m]),\n",
    "                         z=z * np.abs(Y_rot[t, l, num_degrees+m]), surfacecolor=Y_rot[t, l, num_degrees+m], \n",
    "                         colorscale='RdBu_r')\n",
    "              for l in range(num_degrees+1)\n",
    "              for m in range(-l, l+1)],\n",
    "        traces=list(range((num_degrees+1)**2)),\n",
    "    )\n",
    "    for t in range(1, num_timesteps)\n",
    "]"
   ]
  },
  {
   "cell_type": "code",
   "execution_count": 26,
   "id": "107c40ef",
   "metadata": {},
   "outputs": [
    {
     "data": {
      "text/html": [
       "\n",
       "        <iframe\n",
       "            width=\"1000\"\n",
       "            height=\"500\"\n",
       "            src=\"./wigner_rot_sph_harmonics.html\"\n",
       "            frameborder=\"0\"\n",
       "            allowfullscreen\n",
       "        ></iframe>\n",
       "        "
      ]
     },
     "execution_count": 26,
     "metadata": {},
     "output_type": "execute_result"
    }
   ],
   "source": [
    "fig = make_subplots(rows=num_degrees+1, cols=max_order,\n",
    "                    specs=[[{'is_3d': True} for r in range(max_order)] for c in range(num_degrees+1)])\n",
    "\n",
    "for l in range(num_degrees+1):\n",
    "    for m in range(-l, l+1):\n",
    "        fig.add_trace(\n",
    "          go.Surface(x=x * np.abs(Y_rot[0, l, num_degrees+m]), y=y * np.abs(Y_rot[0, l, num_degrees+m]),\n",
    "                     z=z * np.abs(Y_rot[0, l, num_degrees+m]), surfacecolor=Y_rot[0, l, num_degrees+m],\n",
    "                     colorscale='RdBu_r'),\n",
    "          l+1, num_degrees+m+1\n",
    "        )\n",
    "fig.update(frames=frames)\n",
    "\n",
    "fig.update_layout(layout)\n",
    "fig.update_scenes(xaxis_visible=False, yaxis_visible=False, zaxis_visible=False)\n",
    "fig.update_traces(showscale=False)\n",
    "fig.write_html(\"wigner_rot_sph_harmonics.html\")\n",
    "IFrame('./wigner_rot_sph_harmonics.html', 1000, 500)"
   ]
  },
  {
   "cell_type": "code",
   "execution_count": 27,
   "id": "6b45aae6",
   "metadata": {},
   "outputs": [
    {
     "data": {
      "text/html": [
       "\n",
       "        <iframe\n",
       "            width=\"1000\"\n",
       "            height=\"500\"\n",
       "            src=\"./wigner_rot_sph_harmonics.html\"\n",
       "            frameborder=\"0\"\n",
       "            allowfullscreen\n",
       "        ></iframe>\n",
       "        "
      ]
     },
     "execution_count": 27,
     "metadata": {},
     "output_type": "execute_result"
    }
   ],
   "source": [
    "IFrame('./wigner_rot_sph_harmonics.html', 1000, 500)"
   ]
  },
  {
   "cell_type": "code",
   "execution_count": 28,
   "id": "4273630b",
   "metadata": {},
   "outputs": [],
   "source": [
    "frames = [\n",
    "    dict(\n",
    "        name=str(t),\n",
    "        data=[go.Surface(x=x, y=y, z=z, surfacecolor=Y_rot[t, l, num_degrees+m], \n",
    "                         colorscale='RdBu_r')\n",
    "              for l in range(num_degrees+1)\n",
    "              for m in range(-l, l+1)],\n",
    "        traces=list(range((num_degrees+1)**2)),\n",
    "    )\n",
    "    for t in range(1, num_timesteps)\n",
    "]"
   ]
  },
  {
   "cell_type": "code",
   "execution_count": 29,
   "id": "14a7184c",
   "metadata": {},
   "outputs": [
    {
     "data": {
      "text/html": [
       "\n",
       "        <iframe\n",
       "            width=\"1000\"\n",
       "            height=\"500\"\n",
       "            src=\"./wigner_rot_sph_harmonics.html\"\n",
       "            frameborder=\"0\"\n",
       "            allowfullscreen\n",
       "        ></iframe>\n",
       "        "
      ]
     },
     "execution_count": 29,
     "metadata": {},
     "output_type": "execute_result"
    }
   ],
   "source": [
    "fig = make_subplots(rows=num_degrees+1, cols=max_order,\n",
    "                    specs=[[{'is_3d': True} for r in range(max_order)] for c in range(num_degrees+1)])\n",
    "\n",
    "for l in range(num_degrees+1):\n",
    "    for m in range(-l, l+1):\n",
    "        fig.add_trace(\n",
    "          go.Surface(x=x, y=y,\n",
    "                     z=z, surfacecolor=Y_rot[0, l, num_degrees+m],\n",
    "                     colorscale='RdBu_r'),\n",
    "          l+1, num_degrees+m+1\n",
    "        )\n",
    "fig.update(frames=frames)\n",
    "\n",
    "fig.update_layout(layout)\n",
    "fig.update_scenes(xaxis_visible=False, yaxis_visible=False, zaxis_visible=False)\n",
    "fig.update_traces(showscale=False)\n",
    "# fig.show()\n",
    "fig.write_html(\"wigner_rot_sph_harmonics.html\")\n",
    "IFrame('./wigner_rot_sph_harmonics.html', 1000, 500)"
   ]
  },
  {
   "cell_type": "markdown",
   "id": "7c853bd7",
   "metadata": {},
   "source": [
    "## Resources\n",
    "\n",
    "- https://irhum.github.io/blog/spherical-harmonics/\n",
    "- https://blondegeek.github.io/e3nn_tutorial/data_types.html\n",
    "- https://docs.e3nn.org/en/latest/api/o3/o3_sh.html\n",
    "- https://uvagedl.github.io/"
   ]
  },
  {
   "cell_type": "code",
   "execution_count": null,
   "id": "d6afcfbb",
   "metadata": {},
   "outputs": [],
   "source": []
  }
 ],
 "metadata": {
  "kernelspec": {
   "display_name": "Python 3 (ipykernel)",
   "language": "python",
   "name": "python3"
  },
  "language_info": {
   "codemirror_mode": {
    "name": "ipython",
    "version": 3
   },
   "file_extension": ".py",
   "mimetype": "text/x-python",
   "name": "python",
   "nbconvert_exporter": "python",
   "pygments_lexer": "ipython3",
   "version": "3.9.7"
  }
 },
 "nbformat": 4,
 "nbformat_minor": 5
}
